{
 "cells": [
  {
   "cell_type": "code",
   "execution_count": 121,
   "id": "80f4b4b4",
   "metadata": {},
   "outputs": [],
   "source": [
    "import numpy as np\n",
    "import scipy\n",
    "import scipy.stats\n",
    "from sklearn.datasets import fetch_openml\n",
    "\n",
    "import matplotlib.pyplot as plt\n",
    "from ipywidgets import interact\n",
    "\n",
    "plt.style.use('fivethirtyeight')"
   ]
  },
  {
   "cell_type": "code",
   "execution_count": 122,
   "id": "aa366c25",
   "metadata": {},
   "outputs": [],
   "source": [
    "MNIST = fetch_openml('mnist_784', version=1)\n",
    "images = MNIST['data'].to_numpy().astype(np.double) / 255."
   ]
  },
  {
   "cell_type": "code",
   "execution_count": 123,
   "id": "0cb15eec",
   "metadata": {},
   "outputs": [
    {
     "data": {
      "image/png": "[encoded data removed]",
      "text/plain": [
       "<Figure size 288x288 with 1 Axes>"
      ]
     },
     "metadata": {},
     "output_type": "display_data"
    }
   ],
   "source": [
    "plt.figure(figsize=(4,4))\n",
    "plt.imshow(images[0].reshape(28,28), cmap='gray');\n",
    "plt.grid(False)"
   ]
  },
  {
   "cell_type": "markdown",
   "id": "7b22c6cb",
   "metadata": {},
   "source": [
    "### 주성분 분석 알고리즘(PCA)\n",
    "\n",
    "1. Data normalization\n",
    "2. Covariance matrix 의 eigenvalue, eigenvector 계산    \n",
    "3. Principal components 에 해당하는 각 벡터의 기저공간에 데이터 사영"
   ]
  },
  {
   "cell_type": "code",
   "execution_count": 124,
   "id": "a92739f3",
   "metadata": {},
   "outputs": [],
   "source": [
    "# 1. Normalization\n",
    "\n",
    "def normalize(X):\n",
    "    N, D = X.shape\n",
    "    mu = np.mean(X, axis=0)\n",
    "    Xbar = X - mu\n",
    "    return Xbar, mu"
   ]
  },
  {
   "cell_type": "code",
   "execution_count": 125,
   "id": "2a39092d",
   "metadata": {},
   "outputs": [],
   "source": [
    "# 2. Covariance matrix 의 eigenvalue, eigenvector 계산\n",
    "\n",
    "def eig(S):\n",
    "    eig_vals, eig_vecs = np.linalg.eig(S)\n",
    "    sort_indices = np.argsort(eig_vals)[::-1] # 내림차순 정렬\n",
    "    return eig_vals[sort_indices], eig_vecs[:, sort_indices]"
   ]
  },
  {
   "cell_type": "code",
   "execution_count": 126,
   "id": "15a21532",
   "metadata": {},
   "outputs": [],
   "source": [
    "# 3. Principal components 에 해당하는 각 벡터의 기저공간에 데이터 사영\n",
    "\n",
    "def reconstruct(X, PC):\n",
    "    return (X @ PC) @ PC.T # vector projection "
   ]
  },
  {
   "cell_type": "code",
   "execution_count": 127,
   "id": "c35de2e7",
   "metadata": {},
   "outputs": [],
   "source": [
    "def PCA(images, num_components, num_data=1000):\n",
    "    X = images[:num_data]\n",
    "    N, D = X.shape\n",
    "\n",
    "    # 1. Normalization\n",
    "    X_normalized, mean = normalize(X)\n",
    "\n",
    "    # 2. Covariance matrix 의 eigenvalue, eigenvector 계산\n",
    "    S = (X_normalized.T @ X_normalized) / N\n",
    "    eig_vals, eig_vecs = eig(S)\n",
    "\n",
    "    # 3. Principal components 에 해당하는 각 벡터의 기저공간에 데이터 사영\n",
    "    principal_vals, principal_components = np.real(eig_vals[:num_components]), np.real(eig_vecs[:,:num_components])\n",
    "\n",
    "    reconst_X = reconstruct(X_normalized, principal_components) + mean\n",
    "    return reconst_X, mean, principal_vals, principal_components"
   ]
  },
  {
   "cell_type": "code",
   "execution_count": 128,
   "id": "58b8c886",
   "metadata": {},
   "outputs": [
    {
     "data": {
      "application/vnd.jupyter.widget-view+json": {
       "model_id": "5c22e3ca7e384f95a65d5ab2c0f252cf",
       "version_major": 2,
       "version_minor": 0
      },
      "text/plain": [
       "interactive(children=(IntSlider(value=15, description='NUM_PC', max=30, min=1), Output()), _dom_classes=('widg…"
      ]
     },
     "metadata": {},
     "output_type": "display_data"
    }
   ],
   "source": [
    "# PCA 데이터 압축 시각화\n",
    "\n",
    "@interact(NUM_PC=(1, 30), continuous_update=False)\n",
    "def plot_pca_images(NUM_PC=15):\n",
    "    num_images_to_show = 10\n",
    "    reconst_X, _, _, _ = PCA(images, NUM_PC)\n",
    "    \n",
    "    origin_image = np.reshape(images[:num_images_to_show], (-1, 28, 28))\n",
    "    reconst_image = np.reshape(reconst_X[:num_images_to_show], (-1, 28, 28))\n",
    "    fig, ax = plt.subplots(2, 1, figsize=(num_images_to_show * 3, 3))\n",
    "    \n",
    "    ax[0].imshow(np.concatenate(origin_image, -1), cmap=\"gray\")\n",
    "    ax[1].imshow(np.concatenate(reconst_image, -1), cmap=\"gray\")"
   ]
  },
  {
   "cell_type": "code",
   "execution_count": null,
   "id": "609a64bf",
   "metadata": {},
   "outputs": [],
   "source": [
    "# PCA 갯수에 따른 MSE 계산"
   ]
  },
  {
   "cell_type": "code",
   "execution_count": 129,
   "id": "85114a39",
   "metadata": {},
   "outputs": [],
   "source": [
    "def mse(predict, actual):\n",
    "    return np.square(predict - actual).sum(axis=1).mean()"
   ]
  },
  {
   "cell_type": "code",
   "execution_count": 130,
   "id": "5a8dc9d1",
   "metadata": {},
   "outputs": [
    {
     "name": "stdout",
     "output_type": "stream",
     "text": [
      "n = 1, reconstruction_error = 46.465431\n",
      "n = 6, reconstruction_error = 31.284116\n",
      "n = 11, reconstruction_error = 24.259506\n",
      "n = 16, reconstruction_error = 19.831531\n",
      "n = 21, reconstruction_error = 16.731753\n",
      "n = 26, reconstruction_error = 14.364567\n",
      "n = 31, reconstruction_error = 12.488758\n",
      "n = 36, reconstruction_error = 11.002660\n",
      "n = 41, reconstruction_error = 9.782333\n",
      "n = 46, reconstruction_error = 8.774709\n",
      "n = 51, reconstruction_error = 7.918999\n",
      "n = 56, reconstruction_error = 7.187890\n",
      "n = 61, reconstruction_error = 6.558557\n",
      "n = 66, reconstruction_error = 6.020713\n",
      "n = 71, reconstruction_error = 5.540953\n",
      "n = 76, reconstruction_error = 5.120755\n",
      "n = 81, reconstruction_error = 4.744785\n",
      "n = 86, reconstruction_error = 4.418276\n",
      "n = 91, reconstruction_error = 4.122307\n",
      "n = 96, reconstruction_error = 3.853247\n"
     ]
    }
   ],
   "source": [
    "loss = []\n",
    "reconstructions = []\n",
    "\n",
    "for num_component in range(1, 100, 5):\n",
    "    reconst, _, _, _ = PCA(X, num_component)\n",
    "    error = mse(reconst, X)\n",
    "    reconstructions.append(reconst)\n",
    "    print('n = {:d}, reconstruction_error = {:f}'.format(num_component, error))\n",
    "    loss.append((num_component, error))\n",
    "\n",
    "reconstructions = np.asarray(reconstructions)\n",
    "reconstructions = reconstructions\n",
    "loss = np.asarray(loss)"
   ]
  },
  {
   "cell_type": "code",
   "execution_count": 131,
   "id": "afd3c65e",
   "metadata": {},
   "outputs": [
    {
     "data": {
      "image/png": "[encoded data removed]",
      "text/plain": [
       "<Figure size 432x288 with 1 Axes>"
      ]
     },
     "metadata": {},
     "output_type": "display_data"
    }
   ],
   "source": [
    "fig, ax = plt.subplots()\n",
    "ax.plot(loss[:,0], loss[:,1]);\n",
    "ax.axhline(10, linestyle='--', color='r', linewidth=2)\n",
    "ax.xaxis.set_ticks(np.arange(1, 100, 5));\n",
    "ax.set(xlabel='num_components', ylabel='MSE', title='MSE vs number of principal components');"
   ]
  },
  {
   "cell_type": "code",
   "execution_count": 138,
   "id": "74b7d08a",
   "metadata": {},
   "outputs": [
    {
     "data": {
      "application/vnd.jupyter.widget-view+json": {
       "model_id": "2cc9d0bf8a804dc48c3ce976693797e4",
       "version_major": 2,
       "version_minor": 0
      },
      "text/plain": [
       "interactive(children=(IntSlider(value=500, description='image_idx', max=1000), Output()), _dom_classes=('widge…"
      ]
     },
     "metadata": {},
     "output_type": "display_data"
    }
   ],
   "source": [
    "@interact(image_idx=(0, 1000))\n",
    "def show_num_components_reconst(image_idx):\n",
    "    fig, ax = plt.subplots(figsize=(20., 20.))\n",
    "    actual = X[image_idx]\n",
    "    x = np.concatenate([actual[np.newaxis, :], reconstructions[:, image_idx]])\n",
    "    ax.imshow(np.hstack(x.reshape(-1, 28, 28)[np.arange(10)]), cmap='gray');\n",
    "    ax.axvline(28, color='orange', linewidth=2)"
   ]
  },
  {
   "cell_type": "code",
   "execution_count": null,
   "id": "2261ae50",
   "metadata": {},
   "outputs": [],
   "source": []
  }
 ],
 "metadata": {
  "kernelspec": {
   "display_name": "Python 3",
   "language": "python",
   "name": "python3"
  },
  "language_info": {
   "codemirror_mode": {
    "name": "ipython",
    "version": 3
   },
   "file_extension": ".py",
   "mimetype": "text/x-python",
   "name": "python",
   "nbconvert_exporter": "python",
   "pygments_lexer": "ipython3",
   "version": "3.8.7"
  }
 },
 "nbformat": 4,
 "nbformat_minor": 5
}
