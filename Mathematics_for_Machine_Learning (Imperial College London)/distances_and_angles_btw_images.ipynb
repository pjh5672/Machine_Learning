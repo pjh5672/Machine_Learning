{
 "cells": [
  {
   "cell_type": "code",
   "execution_count": 37,
   "id": "a1f50cba",
   "metadata": {},
   "outputs": [],
   "source": [
    "import numpy as np\n",
    "import matplotlib.pyplot as plt\n",
    "from ipywidgets import interact\n",
    "from sklearn.datasets import fetch_openml"
   ]
  },
  {
   "cell_type": "code",
   "execution_count": 38,
   "id": "eaaa4c37",
   "metadata": {},
   "outputs": [],
   "source": [
    "MNIST = fetch_openml('mnist_784', version=1)"
   ]
  },
  {
   "cell_type": "code",
   "execution_count": 146,
   "id": "04637827",
   "metadata": {},
   "outputs": [],
   "source": [
    "images = MNIST['data'].to_numpy().astype(np.double) / 255.\n",
    "labels = MNIST['target'].to_numpy().astype(np.int)"
   ]
  },
  {
   "cell_type": "code",
   "execution_count": 147,
   "id": "e62edd18",
   "metadata": {},
   "outputs": [],
   "source": [
    "# 이미지 벡터간 거리계산\n",
    "def distance(x0, x1):\n",
    "    x = x0 - x1\n",
    "    distance = np.sqrt(x @ x)\n",
    "    return distance\n",
    "\n",
    "# 이미지 벡터간 각도계산\n",
    "def angle(x0, x1):\n",
    "    nominator = x0@x1\n",
    "    denominator = np.sqrt((x0@x0)*(x1@x1))\n",
    "    angle = np.arccos(nominator/denominator)\n",
    "    return angle"
   ]
  },
  {
   "cell_type": "code",
   "execution_count": 152,
   "id": "9f96161a",
   "metadata": {},
   "outputs": [
    {
     "data": {
      "application/vnd.jupyter.widget-view+json": {
       "model_id": "7716ff8545d747a5a2f81a74dfdec609",
       "version_major": 2,
       "version_minor": 0
      },
      "text/plain": [
       "interactive(children=(IntSlider(value=249, description='first', max=499), IntSlider(value=249, description='se…"
      ]
     },
     "metadata": {},
     "output_type": "display_data"
    }
   ],
   "source": [
    "# 500장 이미지 벡터간 거리비교\n",
    "\n",
    "distances = []\n",
    "for i in range(len(images[:500])):\n",
    "    for j in range(len(images[:500])):\n",
    "        distances.append(distance(images[i], images[j]))\n",
    "        \n",
    "@interact(first=(0, 499), second=(0, 499), continuous_update=False)\n",
    "def show_img(first, second):\n",
    "    plt.figure(figsize=(8,4))\n",
    "    f = images[first].reshape(28, 28)\n",
    "    s = images[second].reshape(28, 28)\n",
    "\n",
    "    ax0 = plt.subplot2grid((2, 2), (0, 0))\n",
    "    ax1 = plt.subplot2grid((2, 2), (1, 0))\n",
    "    ax2 = plt.subplot2grid((2, 2), (0, 1), rowspan=2)\n",
    "\n",
    "    ax0.imshow(f, cmap='gray')\n",
    "    ax1.imshow(s, cmap='gray')\n",
    "    ax2.hist(np.array(distances), bins=50)\n",
    "    d = distance(f.ravel(), s.ravel())\n",
    "    ax2.axvline(x=d, ymin=0, ymax=40000, color='C1', linewidth=4)\n",
    "    ax2.text(0, 16000, \"Distance is {:.2f}\".format(d), size=12)\n",
    "    ax2.set(xlabel='distance', ylabel='number of images')\n",
    "    plt.show()"
   ]
  },
  {
   "cell_type": "code",
   "execution_count": 153,
   "id": "6e491aa5",
   "metadata": {},
   "outputs": [
    {
     "data": {
      "application/vnd.jupyter.widget-view+json": {
       "model_id": "e6170e06730341cdb1e2a6b0ae99ad4e",
       "version_major": 2,
       "version_minor": 0
      },
      "text/plain": [
       "interactive(children=(IntSlider(value=249, description='idx', max=499), Output()), _dom_classes=('widget-inter…"
      ]
     },
     "metadata": {},
     "output_type": "display_data"
    }
   ],
   "source": [
    "# 가장 가까운 거리의 이미지 인덱스 찾기\n",
    "\n",
    "def most_similar_image(idx):\n",
    "    distances = np.zeros((500))\n",
    "    for i in range(500):\n",
    "        distances[i] = distance(images[idx], images[i])\n",
    "    idx = np.where(distances == sorted(distances)[1])[0] # 자기 자신은 제외\n",
    "    return idx\n",
    "\n",
    "@interact(idx=(0, 499), continuous_update=False)\n",
    "def show_most_similar(idx):\n",
    "    plt.figure(figsize=(8,4))\n",
    "    f = images[idx].reshape(28, 28)\n",
    "    similar_idx = most_similar_image(idx)\n",
    "    s = images[similar_idx].reshape(28, 28)\n",
    "    \n",
    "    ax0 = plt.subplot(1,2,1)\n",
    "    ax1 = plt.subplot(1,2,2) \n",
    "    ax0.imshow(f, cmap='gray')\n",
    "    ax0.set_title('original')\n",
    "    ax1.imshow(s, cmap='gray')\n",
    "    ax1.set_title('most_similar')\n",
    "    plt.show()"
   ]
  },
  {
   "cell_type": "code",
   "execution_count": 150,
   "id": "d4f89c7c",
   "metadata": {},
   "outputs": [],
   "source": [
    "mean_images = {}\n",
    "for n in np.unique(labels):\n",
    "    mean_images[n] = np.mean(images[labels==n], axis=0)\n",
    "\n",
    "MD = np.zeros((10, 10))\n",
    "AG = np.zeros((10, 10))\n",
    "for i in mean_images.keys():\n",
    "    for j in mean_images.keys():\n",
    "        MD[i, j] = distance(mean_images[i], mean_images[j])\n",
    "        AG[i, j] = angle(mean_images[i].ravel(), mean_images[j].ravel())"
   ]
  },
  {
   "cell_type": "code",
   "execution_count": 151,
   "id": "0e1eeebf",
   "metadata": {},
   "outputs": [
    {
     "data": {
      "image/png": "[encoded data removed]",
      "text/plain": [
       "<Figure size 576x576 with 2 Axes>"
      ]
     },
     "metadata": {
      "needs_background": "light"
     },
     "output_type": "display_data"
    }
   ],
   "source": [
    "fig, ax = plt.subplots(figsize=(8,8))\n",
    "grid = ax.imshow(MD, interpolation='nearest')\n",
    "ax.set(title='Distances between different classes of digits', \n",
    "       xticks=range(10), \n",
    "       xlabel='class of digits', \n",
    "       ylabel='class of digits',\n",
    "       yticks=range(10))\n",
    "fig.colorbar(grid)\n",
    "plt.show()"
   ]
  },
  {
   "cell_type": "code",
   "execution_count": null,
   "id": "92fde4a1",
   "metadata": {},
   "outputs": [],
   "source": []
  }
 ],
 "metadata": {
  "kernelspec": {
   "display_name": "Python 3",
   "language": "python",
   "name": "python3"
  },
  "language_info": {
   "codemirror_mode": {
    "name": "ipython",
    "version": 3
   },
   "file_extension": ".py",
   "mimetype": "text/x-python",
   "name": "python",
   "nbconvert_exporter": "python",
   "pygments_lexer": "ipython3",
   "version": "3.8.7"
  }
 },
 "nbformat": 4,
 "nbformat_minor": 5
}
