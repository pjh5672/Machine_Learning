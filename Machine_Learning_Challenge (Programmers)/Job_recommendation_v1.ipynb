{
 "cells": [
  {
   "cell_type": "code",
   "execution_count": 5,
   "id": "295c52b7",
   "metadata": {},
   "outputs": [],
   "source": [
    "import os\n",
    "import numpy as np\n",
    "import pandas as pd\n",
    "\n",
    "root_path = os.getcwd()"
   ]
  },
  {
   "cell_type": "code",
   "execution_count": 16,
   "id": "5fb5b5c2",
   "metadata": {},
   "outputs": [],
   "source": [
    "user_job_applied_df = pd.read_csv(os.path.join(root_path, 'data/train_job/train.csv'))\n",
    "user_tag_df = pd.read_csv(os.path.join(root_path, 'data/train_job/user_tags.csv'))\n",
    "comp_job_size_df = pd.read_csv(os.path.join(root_path, 'data/train_job/job_companies.csv'))\n",
    "job_tag_df = pd.read_csv(os.path.join(root_path, 'data/train_job/job_tags.csv'))\n",
    "tag_keyword_df = pd.read_csv(os.path.join(root_path, 'data/train_job/tags.csv'))"
   ]
  },
  {
   "cell_type": "code",
   "execution_count": null,
   "id": "f774b0ca",
   "metadata": {},
   "outputs": [],
   "source": [
    "\"\"\"\n",
    "input: user, job \n",
    "model: cls \n",
    "output: applied\n",
    "\"\"\""
   ]
  },
  {
   "cell_type": "code",
   "execution_count": 18,
   "id": "59bc604a",
   "metadata": {},
   "outputs": [
    {
     "data": {
      "text/plain": [
       "6000"
      ]
     },
     "execution_count": 18,
     "metadata": {},
     "output_type": "execute_result"
    }
   ],
   "source": [
    "len(user_job_applied_df)"
   ]
  },
  {
   "cell_type": "code",
   "execution_count": 19,
   "id": "ecf3843e",
   "metadata": {},
   "outputs": [
    {
     "data": {
      "text/plain": [
       "17194"
      ]
     },
     "execution_count": 19,
     "metadata": {},
     "output_type": "execute_result"
    }
   ],
   "source": [
    "len(user_tag_df)"
   ]
  },
  {
   "cell_type": "code",
   "execution_count": 22,
   "id": "88e80f5a",
   "metadata": {},
   "outputs": [
    {
     "data": {
      "text/plain": [
       "733"
      ]
     },
     "execution_count": 22,
     "metadata": {},
     "output_type": "execute_result"
    }
   ],
   "source": [
    "len(comp_job_size_df)"
   ]
  },
  {
   "cell_type": "code",
   "execution_count": 23,
   "id": "5d8b1484",
   "metadata": {},
   "outputs": [
    {
     "data": {
      "text/plain": [
       "3477"
      ]
     },
     "execution_count": 23,
     "metadata": {},
     "output_type": "execute_result"
    }
   ],
   "source": [
    "len(job_tag_df)"
   ]
  },
  {
   "cell_type": "code",
   "execution_count": 24,
   "id": "ff2d1469",
   "metadata": {},
   "outputs": [
    {
     "data": {
      "text/plain": [
       "887"
      ]
     },
     "execution_count": 24,
     "metadata": {},
     "output_type": "execute_result"
    }
   ],
   "source": [
    "len(tag_keyword_df)"
   ]
  },
  {
   "cell_type": "code",
   "execution_count": 31,
   "id": "1b5edb6d",
   "metadata": {},
   "outputs": [
    {
     "data": {
      "text/plain": [
       "0      Amazon Web Services(AWS)\n",
       "1                    Tensorflow\n",
       "2                        Docker\n",
       "3                           Git\n",
       "4                        Python\n",
       "                 ...           \n",
       "882                          활용\n",
       "883                      mybais\n",
       "884                           *\n",
       "885               Autodesk Maya\n",
       "886                  Apache Pig\n",
       "Name: keyword, Length: 887, dtype: object"
      ]
     },
     "execution_count": 31,
     "metadata": {},
     "output_type": "execute_result"
    }
   ],
   "source": [
    "tag_keyword_df['keyword']"
   ]
  }
 ],
 "metadata": {
  "kernelspec": {
   "display_name": "Python 3",
   "language": "python",
   "name": "python3"
  },
  "language_info": {
   "codemirror_mode": {
    "name": "ipython",
    "version": 3
   },
   "file_extension": ".py",
   "mimetype": "text/x-python",
   "name": "python",
   "nbconvert_exporter": "python",
   "pygments_lexer": "ipython3",
   "version": "3.8.7"
  }
 },
 "nbformat": 4,
 "nbformat_minor": 5
}
