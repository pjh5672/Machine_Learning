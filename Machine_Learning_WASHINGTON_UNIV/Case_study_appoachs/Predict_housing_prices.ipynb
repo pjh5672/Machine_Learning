{
 "cells": [
  {
   "cell_type": "markdown",
   "id": "9e88ba1d",
   "metadata": {},
   "source": [
    "# Predicting Housing Prices"
   ]
  },
  {
   "cell_type": "code",
   "execution_count": 1,
   "id": "63c4f171",
   "metadata": {},
   "outputs": [],
   "source": [
    "%matplotlib inline\n",
    "import matplotlib.pyplot as plt\n",
    "import numpy as np\n",
    "import pandas as pd"
   ]
  },
  {
   "cell_type": "markdown",
   "id": "3195c4ef",
   "metadata": {},
   "source": [
    "## Loading Home Data"
   ]
  },
  {
   "cell_type": "code",
   "execution_count": 3,
   "id": "643eefd8",
   "metadata": {},
   "outputs": [],
   "source": [
    "home_data = pd.read_csv('./home_data.csv')\n",
    "df = home_data[['price', 'zipcode']]"
   ]
  },
  {
   "cell_type": "markdown",
   "id": "89413d5c",
   "metadata": {},
   "source": [
    "### Quiz.1\n",
    "We found the zip code with the highest average house price.  \n",
    "What is the average house price of that zip code?"
   ]
  },
  {
   "cell_type": "code",
   "execution_count": 9,
   "id": "6b1c7ddf",
   "metadata": {},
   "outputs": [
    {
     "data": {
      "text/html": [
       "<div>\n",
       "<style scoped>\n",
       "    .dataframe tbody tr th:only-of-type {\n",
       "        vertical-align: middle;\n",
       "    }\n",
       "\n",
       "    .dataframe tbody tr th {\n",
       "        vertical-align: top;\n",
       "    }\n",
       "\n",
       "    .dataframe thead th {\n",
       "        text-align: right;\n",
       "    }\n",
       "</style>\n",
       "<table border=\"1\" class=\"dataframe\">\n",
       "  <thead>\n",
       "    <tr style=\"text-align: right;\">\n",
       "      <th></th>\n",
       "      <th>zipcode</th>\n",
       "      <th>price</th>\n",
       "    </tr>\n",
       "  </thead>\n",
       "  <tbody>\n",
       "    <tr>\n",
       "      <th>24</th>\n",
       "      <td>98039</td>\n",
       "      <td>2.160607e+06</td>\n",
       "    </tr>\n",
       "    <tr>\n",
       "      <th>3</th>\n",
       "      <td>98004</td>\n",
       "      <td>1.355927e+06</td>\n",
       "    </tr>\n",
       "    <tr>\n",
       "      <th>25</th>\n",
       "      <td>98040</td>\n",
       "      <td>1.194230e+06</td>\n",
       "    </tr>\n",
       "    <tr>\n",
       "      <th>48</th>\n",
       "      <td>98112</td>\n",
       "      <td>1.095499e+06</td>\n",
       "    </tr>\n",
       "    <tr>\n",
       "      <th>41</th>\n",
       "      <td>98102</td>\n",
       "      <td>9.012582e+05</td>\n",
       "    </tr>\n",
       "  </tbody>\n",
       "</table>\n",
       "</div>"
      ],
      "text/plain": [
       "    zipcode         price\n",
       "24    98039  2.160607e+06\n",
       "3     98004  1.355927e+06\n",
       "25    98040  1.194230e+06\n",
       "48    98112  1.095499e+06\n",
       "41    98102  9.012582e+05"
      ]
     },
     "execution_count": 9,
     "metadata": {},
     "output_type": "execute_result"
    }
   ],
   "source": [
    "zip_avg_price = pd.DataFrame(data = df.groupby('zipcode', as_index=False).mean())\n",
    "zip_avg_price.sort_values(['price'], ascending=False).head(5)"
   ]
  },
  {
   "cell_type": "markdown",
   "id": "6cc31594",
   "metadata": {},
   "source": [
    "### Quiz.2\n",
    "What fraction of the houses have living space between 2000 sq.ft. and 4000 sq.ft.?"
   ]
  },
  {
   "cell_type": "code",
   "execution_count": 15,
   "id": "253ba979",
   "metadata": {},
   "outputs": [
    {
     "name": "stdout",
     "output_type": "stream",
     "text": [
      "0.42187572294452413\n"
     ]
    }
   ],
   "source": [
    "square_range_df = home_data[(home_data['sqft_living'] > 2000) & (home_data['sqft_living'] <= 4000)]\n",
    "fraction_target = (len(square_range_df.index)/len(home_data.index))\n",
    "print(fraction_target)"
   ]
  },
  {
   "cell_type": "markdown",
   "id": "4c8ed42a",
   "metadata": {},
   "source": [
    "### Quiz.3\n",
    "What is the difference in RMSE between the model trained with my_features and the one trained with advanced_features?"
   ]
  },
  {
   "cell_type": "code",
   "execution_count": 23,
   "id": "49e20dba",
   "metadata": {},
   "outputs": [],
   "source": [
    "from sklearn.linear_model import LinearRegression\n",
    "from sklearn.metrics import mean_squared_error"
   ]
  },
  {
   "cell_type": "code",
   "execution_count": 33,
   "id": "0d49e0d0",
   "metadata": {},
   "outputs": [
    {
     "name": "stdout",
     "output_type": "stream",
     "text": [
      "Diff btw. the regression model for two type of features : 48280.64826140503\n"
     ]
    }
   ],
   "source": [
    "total_size = len(home_data)\n",
    "test_ratio = 0.2\n",
    "train_data = home_data.iloc[0: int(total_size*(1-test_ratio))]\n",
    "test_data = home_data.iloc[int(total_size*(1-test_ratio)):]\n",
    "\n",
    "my_features = ['bedrooms', 'bathrooms', 'sqft_living', 'sqft_lot', 'floors', 'zipcode']\n",
    "advanced_features = ['bedrooms', 'bathrooms', 'sqft_living', 'sqft_lot', 'floors', 'zipcode','condition','grade','waterfront','view','sqft_above','sqft_basement','yr_built','yr_renovated','lat', 'long','sqft_living15','sqft_lot15']\n",
    "\n",
    "my_feat_x = train_data[my_features]\n",
    "advanced_x = train_data[advanced_features]\n",
    "y = train_data['price']\n",
    "\n",
    "model = LinearRegression()\n",
    "model.fit(my_feat_x, y)\n",
    "\n",
    "my_feat_RMSE = np.sqrt(mean_squared_error(test_data['price'], model.predict(test_data[my_features])))\n",
    "\n",
    "model = LinearRegression()\n",
    "model.fit(advanced_x, y)\n",
    "\n",
    "advanced_RMSE = np.sqrt(mean_squared_error(test_data['price'], model.predict(test_data[advanced_features])))\n",
    "\n",
    "print(f'Diff btw. the regression model for two type of features : {np.abs(my_feat_RMSE - advanced_RMSE)}')"
   ]
  },
  {
   "cell_type": "code",
   "execution_count": 38,
   "id": "74766fe2",
   "metadata": {},
   "outputs": [
    {
     "data": {
      "text/plain": [
       "'\\nThe quiz.3 is expecting a difference in RMSE \\nbetween the advanced_features model and \\nthe my_features model of < $25,000. \\n'"
      ]
     },
     "execution_count": 38,
     "metadata": {},
     "output_type": "execute_result"
    }
   ],
   "source": [
    "\"\"\"\n",
    "The quiz.3 is expecting a difference in RMSE \n",
    "between the advanced_features model and \n",
    "the my_features model of < $25,000. \n",
    "\"\"\""
   ]
  },
  {
   "cell_type": "code",
   "execution_count": null,
   "id": "f5ac48e5",
   "metadata": {},
   "outputs": [],
   "source": []
  }
 ],
 "metadata": {
  "kernelspec": {
   "display_name": "Python 3",
   "language": "python",
   "name": "python3"
  },
  "language_info": {
   "codemirror_mode": {
    "name": "ipython",
    "version": 3
   },
   "file_extension": ".py",
   "mimetype": "text/x-python",
   "name": "python",
   "nbconvert_exporter": "python",
   "pygments_lexer": "ipython3",
   "version": "3.8.7"
  }
 },
 "nbformat": 4,
 "nbformat_minor": 5
}
